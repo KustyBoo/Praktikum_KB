{
 "cells": [
  {
   "cell_type": "markdown",
   "metadata": {},
   "source": [
    "# Import Library"
   ]
  },
  {
   "cell_type": "code",
   "execution_count": 20,
   "metadata": {},
   "outputs": [],
   "source": [
    "import numpy as np\n",
    "import tensorflow as tf"
   ]
  },
  {
   "cell_type": "markdown",
   "metadata": {},
   "source": [
    "# Membuat Random Tensor"
   ]
  },
  {
   "cell_type": "code",
   "execution_count": 21,
   "metadata": {},
   "outputs": [
    {
     "data": {
      "text/plain": [
       "<tf.Tensor: shape=(5, 5), dtype=float32, numpy=\n",
       "array([[-0.28433853,  0.8922832 ,  0.8983451 ,  0.7163981 ,  0.34969485],\n",
       "       [-0.37960768,  0.01531979,  0.27423722, -2.214901  , -0.08514621],\n",
       "       [ 1.0113182 ,  0.6616626 ,  1.383323  , -0.40465203,  0.86142987],\n",
       "       [-0.12589967, -1.418615  ,  2.0295074 ,  0.15304402,  0.13658497],\n",
       "       [-0.49787143,  0.38847125, -0.4244715 ,  0.46214256, -0.5444318 ]],\n",
       "      dtype=float32)>"
      ]
     },
     "execution_count": 21,
     "metadata": {},
     "output_type": "execute_result"
    }
   ],
   "source": [
    "random_tensor = tf.random.normal([5,5], seed=1)\n",
    "random_tensor"
   ]
  },
  {
   "cell_type": "markdown",
   "metadata": {},
   "source": [
    "# Membuat Prime Tensor bilangan prima"
   ]
  },
  {
   "cell_type": "code",
   "execution_count": 22,
   "metadata": {},
   "outputs": [
    {
     "data": {
      "text/plain": [
       "<tf.Tensor: shape=(5, 5), dtype=float32, numpy=\n",
       "array([[  2.,   3.,   5.,   7.,  11.],\n",
       "       [ 13.,  17.,  19.,  23.,  29.],\n",
       "       [ 31.,  37.,  41.,  43.,  47.],\n",
       "       [ 53.,  59.,  61.,  71.,  73.],\n",
       "       [ 79.,  83.,  89.,  97., 101.]], dtype=float32)>"
      ]
     },
     "execution_count": 22,
     "metadata": {},
     "output_type": "execute_result"
    }
   ],
   "source": [
    "prima = [[2,3,5,7,11],\n",
    "         [13,17,19,23,29],\n",
    "         [31,37,41,43,47],\n",
    "         [53,59,61,71,73],\n",
    "         [79,83,89,97,101]]\n",
    "\n",
    "prime_tensor = tf.convert_to_tensor(prima, dtype=tf.float32)\n",
    "prime_tensor"
   ]
  },
  {
   "cell_type": "markdown",
   "metadata": {},
   "source": [
    "# Menampilkan dimensi dari kedua Tensor"
   ]
  },
  {
   "cell_type": "code",
   "execution_count": 23,
   "metadata": {},
   "outputs": [
    {
     "data": {
      "text/plain": [
       "TensorShape([5, 5])"
      ]
     },
     "execution_count": 23,
     "metadata": {},
     "output_type": "execute_result"
    }
   ],
   "source": [
    "random_tensor.shape"
   ]
  },
  {
   "cell_type": "code",
   "execution_count": 24,
   "metadata": {},
   "outputs": [
    {
     "data": {
      "text/plain": [
       "TensorShape([5, 5])"
      ]
     },
     "execution_count": 24,
     "metadata": {},
     "output_type": "execute_result"
    }
   ],
   "source": [
    "prime_tensor.shape"
   ]
  },
  {
   "cell_type": "markdown",
   "metadata": {},
   "source": [
    "# Menampilkan hasil dari perhitungan aritmatika"
   ]
  },
  {
   "cell_type": "code",
   "execution_count": 30,
   "metadata": {},
   "outputs": [
    {
     "name": "stdout",
     "output_type": "stream",
     "text": [
      "1. Penjumlahan : \n",
      " tf.Tensor(\n",
      "[[  1.7156615   3.8922832   5.898345    7.7163982  11.349695 ]\n",
      " [ 12.620392   17.01532    19.274237   20.785099   28.914854 ]\n",
      " [ 32.01132    37.661663   42.383324   42.59535    47.86143  ]\n",
      " [ 52.8741     57.581387   63.029507   71.153046   73.13658  ]\n",
      " [ 78.50213    83.38847    88.57553    97.46214   100.45557  ]], shape=(5, 5), dtype=float32)\n"
     ]
    }
   ],
   "source": [
    "penjumlahan = tf.add(random_tensor,prime_tensor)\n",
    "print(\"1. Penjumlahan : \\n\",penjumlahan)"
   ]
  },
  {
   "cell_type": "code",
   "execution_count": 31,
   "metadata": {},
   "outputs": [
    {
     "name": "stdout",
     "output_type": "stream",
     "text": [
      "2. Pengurangan : \n",
      " tf.Tensor(\n",
      "[[  -2.2843385   -2.1077168   -4.101655    -6.2836018  -10.650305 ]\n",
      " [ -13.379608   -16.98468    -18.725763   -25.214901   -29.085146 ]\n",
      " [ -29.988682   -36.338337   -39.616676   -43.40465    -46.13857  ]\n",
      " [ -53.1259     -60.418613   -58.970493   -70.846954   -72.86342  ]\n",
      " [ -79.49787    -82.61153    -89.42447    -96.53786   -101.54443  ]], shape=(5, 5), dtype=float32)\n"
     ]
    }
   ],
   "source": [
    "pengurangan = tf.subtract(random_tensor,prime_tensor)\n",
    "print(\"2. Pengurangan : \\n\",pengurangan)"
   ]
  },
  {
   "cell_type": "code",
   "execution_count": 32,
   "metadata": {},
   "outputs": [
    {
     "name": "stdout",
     "output_type": "stream",
     "text": [
      "3. Perkalian : \n",
      " tf.Tensor(\n",
      "[[ -0.56867707   2.6768496    4.4917254    5.0147867    3.8466434 ]\n",
      " [ -4.9349       0.2604365    5.210507   -50.942722    -2.4692402 ]\n",
      " [ 31.350864    24.481516    56.71624    -17.400038    40.487206  ]\n",
      " [ -6.672683   -83.69828    123.79995     10.866125     9.970702  ]\n",
      " [-39.331844    32.243114   -37.77796     44.827827   -54.987614  ]], shape=(5, 5), dtype=float32)\n"
     ]
    }
   ],
   "source": [
    "perkalian = tf.multiply(random_tensor,prime_tensor)\n",
    "print(\"3. Perkalian : \\n\",perkalian)"
   ]
  },
  {
   "cell_type": "code",
   "execution_count": 35,
   "metadata": {},
   "outputs": [
    {
     "name": "stdout",
     "output_type": "stream",
     "text": [
      "4. Pembagian : \n",
      " tf.Tensor(\n",
      "[[-0.14216927  0.29742774  0.17966902  0.10234259  0.03179044]\n",
      " [-0.02920059  0.00090116  0.01443354 -0.09630004 -0.00293608]\n",
      " [ 0.03262317  0.01788277  0.03373959 -0.00941051  0.0183283 ]\n",
      " [-0.00237547 -0.02404432  0.03327061  0.00215555  0.00187103]\n",
      " [-0.00630217  0.00468038 -0.00476934  0.00476436 -0.00539041]], shape=(5, 5), dtype=float32)\n"
     ]
    }
   ],
   "source": [
    "pembagian = tf.divide(random_tensor,prime_tensor)\n",
    "print(\"4. Pembagian : \\n\", pembagian)"
   ]
  },
  {
   "cell_type": "code",
   "execution_count": 37,
   "metadata": {},
   "outputs": [
    {
     "name": "stdout",
     "output_type": "stream",
     "text": [
      "5. Pangkat : \n",
      " tf.Tensor(\n",
      "[[ 8.0848403e-02  7.1040851e-01  5.8508104e-01  9.6845858e-02\n",
      "   9.5627229e-06]\n",
      " [-3.3990286e-06  1.4102624e-31  2.1105780e-11 -8.7730216e+07\n",
      "  -9.4361422e-32]\n",
      " [ 1.4174985e+00  2.3096874e-07  5.9960731e+05 -1.2720790e-17\n",
      "   9.0227008e-04]\n",
      " [-0.0000000e+00 -9.1202765e+08  5.6341576e+18  0.0000000e+00\n",
      "   0.0000000e+00]\n",
      " [-1.1810252e-24  8.2563274e-35 -7.5599596e-34  3.0427649e-33\n",
      "  -2.1394018e-27]], shape=(5, 5), dtype=float32)\n"
     ]
    }
   ],
   "source": [
    "pangkat = tf.pow(random_tensor,prime_tensor)\n",
    "print(\"5. Pangkat : \\n\",pangkat)"
   ]
  },
  {
   "cell_type": "markdown",
   "metadata": {},
   "source": [
    "# Menampilkan nilai Maksimal dan Minimal dari variabel Random Tensor"
   ]
  },
  {
   "cell_type": "markdown",
   "metadata": {},
   "source": [
    "### Nilai MAX dari baris dan kolom Random Tensor"
   ]
  },
  {
   "cell_type": "code",
   "execution_count": 39,
   "metadata": {},
   "outputs": [
    {
     "data": {
      "text/plain": [
       "array([2, 0, 3, 0, 2], dtype=int64)"
      ]
     },
     "execution_count": 39,
     "metadata": {},
     "output_type": "execute_result"
    }
   ],
   "source": [
    "tf.argmax(random_tensor,axis=0).numpy()"
   ]
  },
  {
   "cell_type": "code",
   "execution_count": 41,
   "metadata": {},
   "outputs": [
    {
     "data": {
      "text/plain": [
       "array([2, 2, 2, 2, 3], dtype=int64)"
      ]
     },
     "execution_count": 41,
     "metadata": {},
     "output_type": "execute_result"
    }
   ],
   "source": [
    "tf.argmax(random_tensor,axis=1).numpy()"
   ]
  },
  {
   "cell_type": "markdown",
   "metadata": {},
   "source": [
    "### Nilai MIN dari baris dan kolom Random Tensor"
   ]
  },
  {
   "cell_type": "code",
   "execution_count": 42,
   "metadata": {},
   "outputs": [
    {
     "data": {
      "text/plain": [
       "array([4, 3, 4, 1, 4], dtype=int64)"
      ]
     },
     "execution_count": 42,
     "metadata": {},
     "output_type": "execute_result"
    }
   ],
   "source": [
    "tf.argmin(random_tensor,axis=0).numpy()"
   ]
  },
  {
   "cell_type": "code",
   "execution_count": 43,
   "metadata": {},
   "outputs": [
    {
     "data": {
      "text/plain": [
       "array([0, 3, 3, 1, 4], dtype=int64)"
      ]
     },
     "execution_count": 43,
     "metadata": {},
     "output_type": "execute_result"
    }
   ],
   "source": [
    "tf.argmin(random_tensor,axis=1).numpy()"
   ]
  },
  {
   "cell_type": "markdown",
   "metadata": {},
   "source": [
    "# Menampilkan hasil dari penggabungan variabel random_tensor dengan prime_tensor"
   ]
  },
  {
   "cell_type": "markdown",
   "metadata": {},
   "source": [
    "### Penggabungan baris"
   ]
  },
  {
   "cell_type": "code",
   "execution_count": 44,
   "metadata": {},
   "outputs": [
    {
     "data": {
      "text/plain": [
       "<tf.Tensor: shape=(10, 5), dtype=float32, numpy=\n",
       "array([[-2.8433853e-01,  8.9228320e-01,  8.9834511e-01,  7.1639812e-01,\n",
       "         3.4969485e-01],\n",
       "       [-3.7960768e-01,  1.5319794e-02,  2.7423722e-01, -2.2149010e+00,\n",
       "        -8.5146211e-02],\n",
       "       [ 1.0113182e+00,  6.6166258e-01,  1.3833230e+00, -4.0465203e-01,\n",
       "         8.6142987e-01],\n",
       "       [-1.2589967e-01, -1.4186150e+00,  2.0295074e+00,  1.5304402e-01,\n",
       "         1.3658497e-01],\n",
       "       [-4.9787143e-01,  3.8847125e-01, -4.2447150e-01,  4.6214256e-01,\n",
       "        -5.4443181e-01],\n",
       "       [ 2.0000000e+00,  3.0000000e+00,  5.0000000e+00,  7.0000000e+00,\n",
       "         1.1000000e+01],\n",
       "       [ 1.3000000e+01,  1.7000000e+01,  1.9000000e+01,  2.3000000e+01,\n",
       "         2.9000000e+01],\n",
       "       [ 3.1000000e+01,  3.7000000e+01,  4.1000000e+01,  4.3000000e+01,\n",
       "         4.7000000e+01],\n",
       "       [ 5.3000000e+01,  5.9000000e+01,  6.1000000e+01,  7.1000000e+01,\n",
       "         7.3000000e+01],\n",
       "       [ 7.9000000e+01,  8.3000000e+01,  8.9000000e+01,  9.7000000e+01,\n",
       "         1.0100000e+02]], dtype=float32)>"
      ]
     },
     "execution_count": 44,
     "metadata": {},
     "output_type": "execute_result"
    }
   ],
   "source": [
    "tf.concat([random_tensor,prime_tensor],axis=0)"
   ]
  },
  {
   "cell_type": "markdown",
   "metadata": {},
   "source": [
    "### Penggabungan kolom"
   ]
  },
  {
   "cell_type": "code",
   "execution_count": 45,
   "metadata": {},
   "outputs": [
    {
     "data": {
      "text/plain": [
       "<tf.Tensor: shape=(5, 10), dtype=float32, numpy=\n",
       "array([[-2.8433853e-01,  8.9228320e-01,  8.9834511e-01,  7.1639812e-01,\n",
       "         3.4969485e-01,  2.0000000e+00,  3.0000000e+00,  5.0000000e+00,\n",
       "         7.0000000e+00,  1.1000000e+01],\n",
       "       [-3.7960768e-01,  1.5319794e-02,  2.7423722e-01, -2.2149010e+00,\n",
       "        -8.5146211e-02,  1.3000000e+01,  1.7000000e+01,  1.9000000e+01,\n",
       "         2.3000000e+01,  2.9000000e+01],\n",
       "       [ 1.0113182e+00,  6.6166258e-01,  1.3833230e+00, -4.0465203e-01,\n",
       "         8.6142987e-01,  3.1000000e+01,  3.7000000e+01,  4.1000000e+01,\n",
       "         4.3000000e+01,  4.7000000e+01],\n",
       "       [-1.2589967e-01, -1.4186150e+00,  2.0295074e+00,  1.5304402e-01,\n",
       "         1.3658497e-01,  5.3000000e+01,  5.9000000e+01,  6.1000000e+01,\n",
       "         7.1000000e+01,  7.3000000e+01],\n",
       "       [-4.9787143e-01,  3.8847125e-01, -4.2447150e-01,  4.6214256e-01,\n",
       "        -5.4443181e-01,  7.9000000e+01,  8.3000000e+01,  8.9000000e+01,\n",
       "         9.7000000e+01,  1.0100000e+02]], dtype=float32)>"
      ]
     },
     "execution_count": 45,
     "metadata": {},
     "output_type": "execute_result"
    }
   ],
   "source": [
    "tf.concat([random_tensor,prime_tensor],axis=1)"
   ]
  },
  {
   "cell_type": "markdown",
   "metadata": {},
   "source": [
    "# Menampilkan hasil sorting dari random tensor dan prime tensor"
   ]
  },
  {
   "cell_type": "code",
   "execution_count": 46,
   "metadata": {},
   "outputs": [
    {
     "data": {
      "text/plain": [
       "array([[ 0.8983451 ,  0.8922832 ,  0.7163981 ,  0.34969485, -0.28433853],\n",
       "       [ 0.27423722,  0.01531979, -0.08514621, -0.37960768, -2.214901  ],\n",
       "       [ 1.383323  ,  1.0113182 ,  0.86142987,  0.6616626 , -0.40465203],\n",
       "       [ 2.0295074 ,  0.15304402,  0.13658497, -0.12589967, -1.418615  ],\n",
       "       [ 0.46214256,  0.38847125, -0.4244715 , -0.49787143, -0.5444318 ]],\n",
       "      dtype=float32)"
      ]
     },
     "execution_count": 46,
     "metadata": {},
     "output_type": "execute_result"
    }
   ],
   "source": [
    "tf.sort(random_tensor, direction=\"DESCENDING\").numpy()"
   ]
  },
  {
   "cell_type": "code",
   "execution_count": 47,
   "metadata": {},
   "outputs": [
    {
     "data": {
      "text/plain": [
       "array([[2, 1, 3, 4, 0],\n",
       "       [2, 1, 4, 0, 3],\n",
       "       [2, 0, 4, 1, 3],\n",
       "       [2, 3, 4, 0, 1],\n",
       "       [3, 1, 2, 0, 4]])"
      ]
     },
     "execution_count": 47,
     "metadata": {},
     "output_type": "execute_result"
    }
   ],
   "source": [
    "tf.argsort(random_tensor, direction=\"DESCENDING\").numpy()"
   ]
  },
  {
   "cell_type": "code",
   "execution_count": 48,
   "metadata": {},
   "outputs": [
    {
     "data": {
      "text/plain": [
       "array([[ 11.,   7.,   5.,   3.,   2.],\n",
       "       [ 29.,  23.,  19.,  17.,  13.],\n",
       "       [ 47.,  43.,  41.,  37.,  31.],\n",
       "       [ 73.,  71.,  61.,  59.,  53.],\n",
       "       [101.,  97.,  89.,  83.,  79.]], dtype=float32)"
      ]
     },
     "execution_count": 48,
     "metadata": {},
     "output_type": "execute_result"
    }
   ],
   "source": [
    "tf.sort(prime_tensor, direction=\"DESCENDING\").numpy()"
   ]
  },
  {
   "cell_type": "code",
   "execution_count": 49,
   "metadata": {},
   "outputs": [
    {
     "data": {
      "text/plain": [
       "array([[4, 3, 2, 1, 0],\n",
       "       [4, 3, 2, 1, 0],\n",
       "       [4, 3, 2, 1, 0],\n",
       "       [4, 3, 2, 1, 0],\n",
       "       [4, 3, 2, 1, 0]])"
      ]
     },
     "execution_count": 49,
     "metadata": {},
     "output_type": "execute_result"
    }
   ],
   "source": [
    "tf.argsort(prime_tensor, direction=\"DESCENDING\").numpy()"
   ]
  },
  {
   "cell_type": "code",
   "execution_count": null,
   "metadata": {},
   "outputs": [],
   "source": []
  }
 ],
 "metadata": {
  "kernelspec": {
   "display_name": "Python 3.10.7 64-bit",
   "language": "python",
   "name": "python3"
  },
  "language_info": {
   "codemirror_mode": {
    "name": "ipython",
    "version": 3
   },
   "file_extension": ".py",
   "mimetype": "text/x-python",
   "name": "python",
   "nbconvert_exporter": "python",
   "pygments_lexer": "ipython3",
   "version": "3.10.7"
  },
  "orig_nbformat": 4,
  "vscode": {
   "interpreter": {
    "hash": "107d7b120a5b68773a87d4067e673630b35702e55ebab3138143d08b1c4d7cbc"
   }
  }
 },
 "nbformat": 4,
 "nbformat_minor": 2
}
